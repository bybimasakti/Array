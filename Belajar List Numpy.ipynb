{
  "cells": [
    {
      "cell_type": "markdown",
      "metadata": {
        "colab_type": "text",
        "id": "view-in-github"
      },
      "source": [
        "<a href=\"https://colab.research.google.com/github/bybimasakti/Array/blob/main/Belajar%20List%20Numpy\" target=\"_parent\"><img src=\"https://colab.research.google.com/assets/colab-badge.svg\" alt=\"Open In Colab\"/></a>"
      ]
    },
    {
      "cell_type": "code",
      "execution_count": null,
      "metadata": {
        "id": "AmrtqvpMz47m"
      },
      "outputs": [],
      "source": [
        "import numpy as np\n"
      ]
    },
    {
      "cell_type": "code",
      "execution_count": null,
      "metadata": {
        "colab": {
          "base_uri": "https://localhost:8080/"
        },
        "id": "o1eZFjqF0AFk",
        "outputId": "3eb0574c-9452-47c8-d035-71157e73d5cb"
      },
      "outputs": [
        {
          "name": "stdout",
          "output_type": "stream",
          "text": [
            "[1 2 3 4 5]\n"
          ]
        }
      ],
      "source": [
        "# Membuat vector\n",
        "list_array = np.array([1,2,3,4,5,])\n",
        "print(list_array)"
      ]
    },
    {
      "cell_type": "code",
      "execution_count": null,
      "metadata": {
        "colab": {
          "base_uri": "https://localhost:8080/"
        },
        "id": "Hmwy739d6lsY",
        "outputId": "be2c3b51-ba17-4997-f009-ae48ab10e6c8"
      },
      "outputs": [
        {
          "name": "stdout",
          "output_type": "stream",
          "text": [
            "[[ 1  2  3  4  5]\n",
            " [ 6  7  8  9 10]]\n",
            "[[ 2  4  6  8 10]\n",
            " [12 14 16 18 20]]\n"
          ]
        }
      ],
      "source": [
        "# Membuat data matrix atau multi vector\n",
        "data_vector = np.array([(1,2,3,4,5),(6,7,8,9,10)])\n",
        "print(data_vector)\n",
        "print(data_vector*2) # Akan mengkalikan dua semua nilai didalam list"
      ]
    },
    {
      "cell_type": "code",
      "execution_count": null,
      "metadata": {
        "colab": {
          "base_uri": "https://localhost:8080/"
        },
        "id": "KxETo50M8UZK",
        "outputId": "4d8f4f3f-76a7-40cf-940f-5c00371349ce"
      },
      "outputs": [
        {
          "name": "stdout",
          "output_type": "stream",
          "text": [
            "[[0. 0. 0.]\n",
            " [0. 0. 0.]\n",
            " [0. 0. 0.]]\n",
            "\n",
            "\n",
            "[[1. 1. 1. 1.]\n",
            " [1. 1. 1. 1.]\n",
            " [1. 1. 1. 1.]]\n"
          ]
        }
      ],
      "source": [
        "# Membuat matrix dengan nol\n",
        "data_zeros = np.zeros((3,3))\n",
        "print(data_zeros)\n",
        "print(\"\\n\")\n",
        "# Membuat matrix dengan 1\n",
        "data_ones = np.ones((3,4))\n",
        "print(data_ones)"
      ]
    },
    {
      "cell_type": "code",
      "execution_count": null,
      "metadata": {
        "colab": {
          "base_uri": "https://localhost:8080/"
        },
        "id": "3xx8hRcw2IAF",
        "outputId": "6c908e82-a1a1-4021-8f15-d170614410f6"
      },
      "outputs": [
        {
          "name": "stdout",
          "output_type": "stream",
          "text": [
            "[1 2 3 4 5 6 7 8 9]\n",
            "[1 3 5 7 9]\n"
          ]
        }
      ],
      "source": [
        "# Membuat data vector range\n",
        "data_range1 = np.arange(1,10)\n",
        "data_range2 = np.arange(1,10,2)\n",
        "print(data_range1)\n",
        "print(data_range2)"
      ]
    },
    {
      "cell_type": "code",
      "execution_count": 1,
      "metadata": {
        "colab": {
          "base_uri": "https://localhost:8080/"
        },
        "id": "ZsZeEAYt2wAH",
        "outputId": "e15ecc9c-035c-41cb-c8d9-f7db79c256f5"
      },
      "outputs": [
        {
          "ename": "NameError",
          "evalue": "name 'np' is not defined",
          "output_type": "error",
          "traceback": [
            "\u001b[1;31m---------------------------------------------------------------------------\u001b[0m",
            "\u001b[1;31mNameError\u001b[0m                                 Traceback (most recent call last)",
            "\u001b[1;32mg:\\My Drive\\Project\\20230901 Latihan Code\\Array\\Belajar List Numpy.ipynb Cell 7\u001b[0m line \u001b[0;36m2\n\u001b[0;32m      <a href='vscode-notebook-cell:/g%3A/My%20Drive/Project/20230901%20Latihan%20Code/Array/Belajar%20List%20Numpy.ipynb#W6sZmlsZQ%3D%3D?line=0'>1</a>\u001b[0m \u001b[39m# Membuat Line Space\u001b[39;00m\n\u001b[1;32m----> <a href='vscode-notebook-cell:/g%3A/My%20Drive/Project/20230901%20Latihan%20Code/Array/Belajar%20List%20Numpy.ipynb#W6sZmlsZQ%3D%3D?line=1'>2</a>\u001b[0m data_linespace \u001b[39m=\u001b[39m np\u001b[39m.\u001b[39mlinspace(\u001b[39m1\u001b[39m,\u001b[39m10\u001b[39m,\u001b[39m4\u001b[39m) \u001b[39m# Angka 4 merupakan pembagi\u001b[39;00m\n\u001b[0;32m      <a href='vscode-notebook-cell:/g%3A/My%20Drive/Project/20230901%20Latihan%20Code/Array/Belajar%20List%20Numpy.ipynb#W6sZmlsZQ%3D%3D?line=2'>3</a>\u001b[0m \u001b[39mprint\u001b[39m(data_linespace)\n",
            "\u001b[1;31mNameError\u001b[0m: name 'np' is not defined"
          ]
        }
      ],
      "source": [
        "# Membuat Line Space\n",
        "data_linespace = np.linspace(1,10,4) # Angka 4 merupakan pembagi\n",
        "print(data_linespace)"
      ]
    },
    {
      "cell_type": "code",
      "execution_count": 2,
      "metadata": {},
      "outputs": [
        {
          "name": "stdout",
          "output_type": "stream",
          "text": [
            "coba2 dlu\n"
          ]
        }
      ],
      "source": [
        "print(\"coba2 dlu\")"
      ]
    }
  ],
  "metadata": {
    "colab": {
      "authorship_tag": "ABX9TyOxWVefEc1/f2EKv3avzv7P",
      "include_colab_link": true,
      "provenance": []
    },
    "kernelspec": {
      "display_name": "Python 3",
      "name": "python3"
    },
    "language_info": {
      "codemirror_mode": {
        "name": "ipython",
        "version": 3
      },
      "file_extension": ".py",
      "mimetype": "text/x-python",
      "name": "python",
      "nbconvert_exporter": "python",
      "pygments_lexer": "ipython3",
      "version": "3.11.5"
    }
  },
  "nbformat": 4,
  "nbformat_minor": 0
}
