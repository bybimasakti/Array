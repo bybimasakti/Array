{
  "nbformat": 4,
  "nbformat_minor": 0,
  "metadata": {
    "colab": {
      "provenance": [],
      "authorship_tag": "ABX9TyPCpyStVrkPEWBQJpoTTFg7",
      "include_colab_link": true
    },
    "kernelspec": {
      "name": "python3",
      "display_name": "Python 3"
    },
    "language_info": {
      "name": "python"
    }
  },
  "cells": [
    {
      "cell_type": "markdown",
      "metadata": {
        "id": "view-in-github",
        "colab_type": "text"
      },
      "source": [
        "<a href=\"https://colab.research.google.com/github/bybimasakti/Array/blob/main/Copy_of_indexing%2C_slice%2C_Iterasi.ipynb\" target=\"_parent\"><img src=\"https://colab.research.google.com/assets/colab-badge.svg\" alt=\"Open In Colab\"/></a>"
      ]
    },
    {
      "cell_type": "code",
      "execution_count": null,
      "metadata": {
        "id": "tEphlg7ekm5L"
      },
      "outputs": [],
      "source": [
        "import numpy as np"
      ]
    },
    {
      "cell_type": "code",
      "source": [
        "a = np.arange(10)\n",
        "b = a**2 # setiap komponen dikuadrat 2\n",
        "print(a)\n",
        "print(b)"
      ],
      "metadata": {
        "id": "J7fZSedNoEEu",
        "outputId": "a01a86a5-c11f-4de5-b5dd-8219a85b44fd",
        "colab": {
          "base_uri": "https://localhost:8080/"
        }
      },
      "execution_count": null,
      "outputs": [
        {
          "output_type": "stream",
          "name": "stdout",
          "text": [
            "[0 1 2 3 4 5 6 7 8 9]\n",
            "[ 0  1  4  9 16 25 36 49 64 81]\n"
          ]
        }
      ]
    },
    {
      "cell_type": "code",
      "source": [
        "# Mengambil nilai dari sebuah list array dengan index\n",
        "\n",
        "print(f\"nilai ke 5 dari list b adalah {b[4]}\")\n",
        "print(f\"nilai terakhir dari list b adalah {b[-1]}\")"
      ],
      "metadata": {
        "id": "FbhTYLP9ortm",
        "outputId": "c98fc4b4-915a-4ad7-85c0-649359b3ee79",
        "colab": {
          "base_uri": "https://localhost:8080/"
        }
      },
      "execution_count": null,
      "outputs": [
        {
          "output_type": "stream",
          "name": "stdout",
          "text": [
            "nilai ke 5 dari list b adalah 16\n",
            "nilai terakhir dari list b adalah 81\n"
          ]
        }
      ]
    },
    {
      "cell_type": "code",
      "source": [
        "# Slicing, Cara menambil nilai antara\n",
        "\n",
        "print(f\"nilai dari 1 - 6 dalam list b adalah {b[0:6]}\") #[start:end]\n",
        "print(f\"nilai dari 4 sampai terakhir dalam list b adalah {b[3:]}\") #[start:kosongin]\n",
        "print(f\"nilai awal sampai ke 7 dalam list b adalah {b[:6]}\") #[kosong:end]"
      ],
      "metadata": {
        "id": "8vpu-0snqxtv",
        "outputId": "e26f210c-3fcc-4a5a-ae6e-bfff642f3bc5",
        "colab": {
          "base_uri": "https://localhost:8080/"
        }
      },
      "execution_count": null,
      "outputs": [
        {
          "output_type": "stream",
          "name": "stdout",
          "text": [
            "nilai dari 1 - 6 dalam list b adalah [ 0  1  4  9 16 25]\n",
            "nilai dari 4 sampai terakhir dalam list b adalah [ 9 16 25 36 49 64 81]\n",
            "nilai awal sampai ke 7 dalam list b adalah [ 0  1  4  9 16 25]\n"
          ]
        }
      ]
    },
    {
      "cell_type": "code",
      "source": [
        "# Iterasi atau looping\n",
        "for angka in a:\n",
        "  print(f\"angka = {angka}\")"
      ],
      "metadata": {
        "id": "qIbQNbj2rwZL",
        "outputId": "4b540da9-fcae-4115-8a2a-9df1e567bf18",
        "colab": {
          "base_uri": "https://localhost:8080/"
        }
      },
      "execution_count": null,
      "outputs": [
        {
          "output_type": "stream",
          "name": "stdout",
          "text": [
            "angka = 0\n",
            "angka = 1\n",
            "angka = 2\n",
            "angka = 3\n",
            "angka = 4\n",
            "angka = 5\n",
            "angka = 6\n",
            "angka = 7\n",
            "angka = 8\n",
            "angka = 9\n"
          ]
        }
      ]
    },
    {
      "cell_type": "code",
      "source": [],
      "metadata": {
        "id": "9eR33Ssxt_S9"
      },
      "execution_count": null,
      "outputs": []
    }
  ]
}